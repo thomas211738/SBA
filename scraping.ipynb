{
 "cells": [
  {
   "cell_type": "code",
   "execution_count": 89,
   "metadata": {},
   "outputs": [],
   "source": [
    "import requests\n",
    "from dotenv import load_dotenv\n",
    "import os\n",
    "import numpy as np\n",
    "import pandas as pd\n",
    "load_dotenv()\n",
    "API_KEY = os.getenv('API_KEY')"
   ]
  },
  {
   "cell_type": "code",
   "execution_count": 79,
   "metadata": {},
   "outputs": [],
   "source": [
    "def get_all_sports():\n",
    "    sports_url = f'https://api.the-odds-api.com/v4/sports/?apiKey={API_KEY}'\n",
    "\n",
    "    sports_response = requests.get(sports_url)\n",
    "    sports_data = sports_response.json()\n",
    "\n",
    "    sports = []\n",
    "    for sport in sports_data:\n",
    "        sports.append(sport['key'])\n",
    "\n",
    "    return sports\n",
    "\n",
    "def get_sport_teams_odds(sport):\n",
    "    sport_team_odds_url = f'https://api.the-odds-api.com/v4/sports/{sport}/odds/?apiKey={API_KEY}&regions=us&markets=h2h,spreads&oddsFormat=american'\n",
    "    response = requests.get(sport_team_odds_url)\n",
    "    data = response.json()\n",
    "    \n",
    "    if len(data) <= 1:\n",
    "        return None\n",
    "    \n",
    "    sport_team_odds = []\n",
    "    for team in data:\n",
    "        \n",
    "        sports_teams = f\"{team['bookmakers'][0]['markets'][0]['outcomes'][0]['name']} vs {team['bookmakers'][0]['markets'][0]['outcomes'][1]['name']}\"\n",
    "        \n",
    "        books = []\n",
    "        odds1 = []\n",
    "        odds2 = []\n",
    "        for odds in team['bookmakers']:\n",
    "            books.append(odds['title'])\n",
    "            odds1.append(odds['markets'][0]['outcomes'][0]['price'])\n",
    "            odds2.append(odds['markets'][0]['outcomes'][1]['price']) \n",
    "        \n",
    "        data = {\n",
    "                'Books': books,\n",
    "                'Odds1': odds1,\n",
    "                'Odds2': odds2\n",
    "            }\n",
    "        team_odds = (sports_teams, pd.DataFrame(data))\n",
    "        sport_team_odds.append(team_odds)\n",
    "    return sport_team_odds\n",
    "\n",
    "def calc_arb_opp(sport_odds):\n",
    "    \n",
    "    for game_index in range(len(sport_odds)):\n",
    "        max_odds1 = sport_odds[game_index][1]['Odds1'].max()\n",
    "        max_odds2 = sport_odds[game_index][1]['Odds2'].max()\n",
    "        \n",
    "        implied_prob = find_probs(max_odds1, max_odds2) \n",
    "        if implied_prob < 100:\n",
    "            max_odds1_book = sport_odds.loc[sport_odds[game_index][1]['Odds1'].idxmax(), 'Books']\n",
    "            max_odds2_book = sport_odds.loc[sport_odds[game_index][1]['Odds2'].idxmax(), 'Books']\n",
    "\n",
    "            print(f'Arbitrage Opportunity Avalible: {sport_odds[game_index][0]}, {max_odds1_book}:{max_odds1} | {max_odds2_book}:{max_odds2}')\n",
    "        return implied_prob \n",
    "        \n",
    "def find_probs(b1, b2):\n",
    "    \n",
    "    if b1 < 0:\n",
    "        p1 = b1 / (b1 - 100)\n",
    "    else:\n",
    "        p1 = 100 / (b1 + 100)\n",
    "        \n",
    "    if b2 < 0:\n",
    "        p2 = b2 / (b2 - 100)\n",
    "    else:\n",
    "        p2 = 100 / (b2 + 100)\n",
    "        \n",
    "    return p1 + p2"
   ]
  },
  {
   "cell_type": "code",
   "execution_count": null,
   "metadata": {},
   "outputs": [],
   "source": [
    "sports = get_all_sports()"
   ]
  },
  {
   "cell_type": "code",
   "execution_count": 88,
   "metadata": {},
   "outputs": [],
   "source": [
    "sports_team_data = get_sport_teams_odds(sports[0])\n",
    "print(calc_arb_opp(sports_team_data))"
   ]
  }
 ],
 "metadata": {
  "kernelspec": {
   "display_name": "Python 3 (ipykernel)",
   "language": "python",
   "name": "python3"
  },
  "language_info": {
   "codemirror_mode": {
    "name": "ipython",
    "version": 3
   },
   "file_extension": ".py",
   "mimetype": "text/x-python",
   "name": "python",
   "nbconvert_exporter": "python",
   "pygments_lexer": "ipython3",
   "version": "3.11.1"
  }
 },
 "nbformat": 4,
 "nbformat_minor": 2
}
